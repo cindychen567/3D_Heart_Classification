{
  "nbformat": 4,
  "nbformat_minor": 0,
  "metadata": {
    "colab": {
      "provenance": []
    },
    "kernelspec": {
      "name": "python3",
      "display_name": "Python 3"
    },
    "language_info": {
      "name": "python"
    }
  },
  "cells": [
    {
      "cell_type": "code",
      "execution_count": null,
      "metadata": {
        "id": "iLvWD1Wn7icg",
        "colab": {
          "base_uri": "https://localhost:8080/"
        },
        "outputId": "1b11dfea-5210-40f5-d9ae-8b593a005b40"
      },
      "outputs": [
        {
          "output_type": "stream",
          "name": "stdout",
          "text": [
            "Drive already mounted at /content/drive; to attempt to forcibly remount, call drive.mount(\"/content/drive\", force_remount=True).\n"
          ]
        }
      ],
      "source": [
        "import os\n",
        "from google.colab import drive\n",
        "drive.mount(\"/content/drive\")\n",
        "os.chdir(\"/content/drive/MyDrive/DP\")"
      ]
    },
    {
      "cell_type": "code",
      "source": [
        "import glob\n",
        "import time\n",
        "import re\n",
        "import argparse\n",
        "import nibabel as nib\n",
        "import pandas as pd\n",
        "import numpy as np\n",
        "import matplotlib.pyplot as plt\n",
        "import shutil\n",
        "import errno"
      ],
      "metadata": {
        "id": "1rNGETRZ9lp_"
      },
      "execution_count": null,
      "outputs": []
    },
    {
      "cell_type": "code",
      "source": [
        "NORMAL = 'NOR'\n",
        "MINF = 'MINF'\n",
        "DCM = 'DCM'\n",
        "HCM = 'HCM'\n",
        "RV = 'RV'"
      ],
      "metadata": {
        "id": "fdvjr2_GuIyC"
      },
      "execution_count": null,
      "outputs": []
    },
    {
      "cell_type": "code",
      "source": [
        "def copy(src, dest):\n",
        "  \"\"\"\n",
        "  Copy function\n",
        "  \"\"\"\n",
        "  try:\n",
        "      shutil.copytree(src, dest, ignore=shutil.ignore_patterns())\n",
        "  except OSError as e:\n",
        "      # If the error was caused because the source wasn't a directory\n",
        "      if e.errno == errno.ENOTDIR:\n",
        "          shutil.copy(src, dest)\n",
        "      else:\n",
        "          print('Directory not copied. Error: %s' % e)\n",
        "\n",
        "def read_patient_cfg(path):\n",
        "    \"\"\"\n",
        "    Reads patient data in the cfg file and returns a dictionary\n",
        "    \"\"\"\n",
        "    patient_info = {}\n",
        "    with open(os.path.join(path, 'Info.cfg')) as f_in:\n",
        "      for line in f_in:\n",
        "        l = line.rstrip().split(\": \")\n",
        "        patient_info[l[0]] = l[1]\n",
        "    return patient_info\n",
        "\n",
        "def group_patient_cases(src_path, out_path, force=False):\n",
        "  \"\"\" Group the patient data according to cardiac pathology\"\"\"\n",
        "\n",
        "  cases = sorted(next(os.walk(src_path))[1])\n",
        "  dest_path = os.path.join(out_path, 'Patient_Groups_test')\n",
        "  if force:\n",
        "    shutil.rmtree(dest_path)\n",
        "  if os.path.exists(dest_path):\n",
        "    return dest_path\n",
        "\n",
        "  os.makedirs(dest_path)\n",
        "  os.mkdir(os.path.join(dest_path, NORMAL))\n",
        "  os.mkdir(os.path.join(dest_path, MINF))\n",
        "  os.mkdir(os.path.join(dest_path, DCM))\n",
        "  os.mkdir(os.path.join(dest_path, HCM))\n",
        "  os.mkdir(os.path.join(dest_path, RV))\n",
        "\n",
        "  for case in cases:\n",
        "    full_path = os.path.join(src_path, case)\n",
        "    copy(full_path, os.path.join(dest_path,\\\n",
        "        read_patient_cfg(full_path)['Group'], case))"
      ],
      "metadata": {
        "id": "r-kROI0vktQ1"
      },
      "execution_count": null,
      "outputs": []
    },
    {
      "cell_type": "code",
      "source": [
        "src_path = \"/content/drive/MyDrive/DP/training/\"\n",
        "out_path = \"/content/drive/MyDrive/DP/\""
      ],
      "metadata": {
        "id": "6qHLrfpcUMUO"
      },
      "execution_count": null,
      "outputs": []
    },
    {
      "cell_type": "code",
      "source": [
        "group_patient_cases(src_path, out_path , force = True)"
      ],
      "metadata": {
        "id": "D1GHloFLtkbf"
      },
      "execution_count": null,
      "outputs": []
    },
    {
      "cell_type": "code",
      "source": [
        "def generate_train_validate_test_set(src_path, dest_path):\n",
        "  \"\"\"\n",
        "  Split the data into 70:15:15 for train-validate-test set\n",
        "  arg: path: input data path\n",
        "  \"\"\"\n",
        "  SPLIT_TRAIN = 0.70\n",
        "  SPLIT_VALID = 0.15\n",
        "\n",
        "  dest_path = os.path.join(dest_path,'dataset2')\n",
        "  if os.path.exists(dest_path):\n",
        "    shutil.rmtree(dest_path)\n",
        "  os.makedirs(os.path.join(dest_path, 'train_set'))\n",
        "  os.makedirs(os.path.join(dest_path, 'validation_set'))\n",
        "  os.makedirs(os.path.join(dest_path, 'test_set'))\n",
        "  # print (src_path)\n",
        "  groups = next(os.walk(src_path))[1]\n",
        "  for group in groups:\n",
        "    group_path = next(os.walk(os.path.join(src_path, group)))[0]\n",
        "    patient_folders = next(os.walk(group_path))[1]\n",
        "    np.random.shuffle(patient_folders)\n",
        "    train_ = patient_folders[0:int(SPLIT_TRAIN*len(patient_folders))]\n",
        "    valid_ = patient_folders[int(SPLIT_TRAIN*len(patient_folders)):\n",
        "                 int((SPLIT_TRAIN+SPLIT_VALID)*len(patient_folders))]\n",
        "    test_ = patient_folders[int((SPLIT_TRAIN+SPLIT_VALID)*len(patient_folders)):]\n",
        "    for patient in train_:\n",
        "      folder_path = os.path.join(group_path, patient)\n",
        "      copy(folder_path, os.path.join(dest_path, 'train_set', patient))\n",
        "\n",
        "    for patient in valid_:\n",
        "      folder_path = os.path.join(group_path, patient)\n",
        "      copy(folder_path, os.path.join(dest_path, 'validation_set', patient))\n",
        "\n",
        "    for patient in test_:\n",
        "      folder_path = os.path.join(group_path, patient)\n",
        "      copy(folder_path, os.path.join(dest_path, 'test_set', patient))"
      ],
      "metadata": {
        "id": "edazrK_E1D0R"
      },
      "execution_count": null,
      "outputs": []
    },
    {
      "cell_type": "code",
      "source": [
        "src = \"/content/drive/MyDrive/DP/Patient_Groups_test/\"\n",
        "dest = \"/content/drive/MyDrive/DP/\""
      ],
      "metadata": {
        "id": "M3zvC8nZ1NBR"
      },
      "execution_count": null,
      "outputs": []
    },
    {
      "cell_type": "code",
      "source": [
        "generate_train_validate_test_set(src, dest)"
      ],
      "metadata": {
        "id": "Bm6b_CPr1nPs"
      },
      "execution_count": null,
      "outputs": []
    },
    {
      "cell_type": "code",
      "source": [
        "path = \"/content/drive/MyDrive/DP/testing/patient101/\""
      ],
      "metadata": {
        "id": "7_GvWOYl1riv"
      },
      "execution_count": null,
      "outputs": []
    },
    {
      "cell_type": "code",
      "source": [
        "read_patient_cfg(path)"
      ],
      "metadata": {
        "id": "1eGsiYyLujPR",
        "outputId": "8842b322-0ec1-44f4-ca96-14dbb58b82e2",
        "colab": {
          "base_uri": "https://localhost:8080/"
        }
      },
      "execution_count": null,
      "outputs": [
        {
          "output_type": "execute_result",
          "data": {
            "text/plain": [
              "{'ED': '1', 'ES': '14', 'Height': '169.0', 'NbFrame': '30', 'Weight': '79.0'}"
            ]
          },
          "metadata": {},
          "execution_count": 7
        }
      ]
    },
    {
      "cell_type": "code",
      "source": [],
      "metadata": {
        "id": "BMkiqDFTuoDV"
      },
      "execution_count": null,
      "outputs": []
    }
  ]
}